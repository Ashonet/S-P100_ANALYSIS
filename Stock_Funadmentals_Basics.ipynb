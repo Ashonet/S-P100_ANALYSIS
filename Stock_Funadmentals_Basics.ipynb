{
  "nbformat": 4,
  "nbformat_minor": 0,
  "metadata": {
    "colab": {
      "provenance": [],
      "authorship_tag": "ABX9TyPHVGrGBn/ejxx8XpKhu3am"
    },
    "kernelspec": {
      "name": "python3",
      "display_name": "Python 3"
    },
    "language_info": {
      "name": "python"
    }
  },
  "cells": [
    {
      "cell_type": "code",
      "source": [
        "pip install yfinance"
      ],
      "metadata": {
        "id": "NHGwrBOUXlId"
      },
      "execution_count": null,
      "outputs": []
    },
    {
      "cell_type": "code",
      "source": [
        "import yfinance as yf\n",
        "import pandas as pd\n",
        "\n",
        "def get_financials(ticker):\n",
        "    stock = yf.Ticker(ticker)\n",
        "\n",
        "    # Get quarterly financials\n",
        "    quarterly_financials = stock.quarterly_financials\n",
        "    last_5_quarters = quarterly_financials.iloc[:, :5].T\n",
        "\n",
        "    # Get yearly financials\n",
        "    yearly_financials = stock.financials\n",
        "    last_5_years = yearly_financials.iloc[:, :5].T\n",
        "\n",
        "    # Select the relevant columns for both quarterly and yearly financials\n",
        "    selected_columns = ['Total Revenue', 'Cost Of Revenue', 'Gross Profit', 'Research Development',\n",
        "                        'Selling General Administrative', 'Operating Income', 'Interest Expense',\n",
        "                        'Income Before Tax', 'Income Tax Expense', 'Net Income', 'Shares Outstanding']\n",
        "\n",
        "    # Filter available columns\n",
        "    available_columns = [col for col in selected_columns if col in last_5_quarters.columns]\n",
        "    last_5_quarters = last_5_quarters[available_columns]\n",
        "\n",
        "    available_columns = [col for col in selected_columns if col in last_5_years.columns]\n",
        "    last_5_years = last_5_years[available_columns]\n",
        "\n",
        "    return last_5_quarters, last_5_years\n",
        "\n",
        "def format_financials(df):\n",
        "    for column in df.columns:\n",
        "        if column != 'Shares Outstanding':\n",
        "            df[column] = df[column] / 1e6\n",
        "    df = df.round(2)\n",
        "    return df\n",
        "\n",
        "def main():\n",
        "    ticker = input(\"Enter the stock ticker symbol: \").strip().upper()\n",
        "    last_5_quarters, last_5_years = get_financials(ticker)\n",
        "\n",
        "    last_5_quarters = format_financials(last_5_quarters)\n",
        "    last_5_years = format_financials(last_5_years)\n",
        "\n",
        "    print(\"\\nLast 5 Quarters Financials (in millions):\")\n",
        "    print(last_5_quarters)\n",
        "\n",
        "    print(\"\\nLast 5 Years Financials (in millions):\")\n",
        "    print(last_5_years)\n",
        "\n",
        "if __name__ == \"__main__\":\n",
        "    main()\n"
      ],
      "metadata": {
        "id": "OLZo5U_GXlPU"
      },
      "execution_count": null,
      "outputs": []
    }
  ]
}